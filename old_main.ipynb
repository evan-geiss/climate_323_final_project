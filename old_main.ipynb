{
 "cells": [
  {
   "cell_type": "code",
   "execution_count": null,
   "metadata": {},
   "outputs": [],
   "source": [
    "import numpy as np\n",
    "import pandas as pd\n",
    "import datetime as dt\n",
    "from matplotlib import pyplot as plt"
   ]
  },
  {
   "cell_type": "markdown",
   "metadata": {},
   "source": [
    "Import Data"
   ]
  },
  {
   "cell_type": "code",
   "execution_count": null,
   "metadata": {},
   "outputs": [],
   "source": [
    "# import data from csv file \n",
    "# time is imported separately as a string\n",
    "data = np.genfromtxt('omni.csv', delimiter=',', skip_header=117, usecols=range(1, 5))\n",
    "time = np.genfromtxt('omni.csv', delimiter=',', skip_header=117, usecols=0, dtype=str)\n",
    "\n",
    "# Convert time to datetime\n",
    "time = [dt.datetime.strptime(t, '%Y-%m-%dT%H:%M:%S.%fZ') for t in time]\n",
    "time = np.array(time)"
   ]
  },
  {
   "cell_type": "markdown",
   "metadata": {},
   "source": [
    "Data Clean Up"
   ]
  },
  {
   "cell_type": "code",
   "execution_count": null,
   "metadata": {},
   "outputs": [],
   "source": [
    "def delete_row(input_data, input_time, index):\n",
    "    print('remaining data:', (index / len(input_data)) * 100, '%')\n",
    "    print('Time:', input_time[index])\n",
    "    print('Data:', input_data[index])\n",
    "    print()\n",
    "\n",
    "    input_data = np.delete(input_data, index, axis=0)\n",
    "    input_time = np.delete(input_time, index)\n",
    "    index = index - 1\n",
    "\n",
    "    return input_data, input_time, index"
   ]
  },
  {
   "cell_type": "code",
   "execution_count": null,
   "metadata": {},
   "outputs": [],
   "source": [
    "# create a temp array to store the data\n",
    "tempArray = data\n",
    "tempTime = time\n",
    "rowsDeleted = 0\n",
    "output = [tempArray, tempTime, rowsDeleted]\n",
    "\n",
    "for i in range(len(tempArray)):\n",
    "    print('old_time: ', time[rowsDeleted])\n",
    "    print('old_data: ', data[rowsDeleted])\n",
    "    if ((tempArray[i, 0] == 999.9).any()):\n",
    "        print('bZ = 999.9 at index', i)\n",
    "        output = delete_row(data, tempTime, i)\n",
    "    elif ((tempArray[i, 1] == 99.99).any()):\n",
    "        print('fP = 99.99 at index', i)\n",
    "        output = delete_row(data, tempTime, i)\n",
    "    elif ((tempArray[i,2] == 999).any()):\n",
    "        print('ssCount = 999 at index', i)\n",
    "        output = delete_row(data, tempTime, i)\n",
    "    else:\n",
    "        print('No bad data at index', i)\n",
    "        print()\n",
    "        continue\n",
    "    \n",
    "    tempArray = output[0]\n",
    "    tempTime = output[1]\n",
    "    i = output[2]\n",
    "    rowsDeleted += 1\n",
    "\n",
    "data = tempArray\n",
    "time = tempTime"
   ]
  },
  {
   "cell_type": "code",
   "execution_count": null,
   "metadata": {},
   "outputs": [],
   "source": [
    "# save the cleaned data and time to a new csv file\n",
    "np.savetxt('onmi_cleaned_data.csv', data, delimiter=',')\n",
    "np.savetxt('onmi_cleaned_time.csv', time, delimiter=',')"
   ]
  },
  {
   "cell_type": "code",
   "execution_count": null,
   "metadata": {},
   "outputs": [],
   "source": [
    "bZ = data[:, 0] # magnetic field in the z-direction\n",
    "fP = data[:, 1] # flow pressure\n",
    "ssCount = data[:, 2] # sun spot count\n",
    "dst = data[:, 3] # dst index"
   ]
  },
  {
   "cell_type": "code",
   "execution_count": null,
   "metadata": {},
   "outputs": [],
   "source": [
    "# clean up the Bz data\n",
    "\n",
    "# average of the Bz component\n",
    "avg_bZ = np.nanmean(bZ)\n",
    "\n",
    "# standard deviation of the Bz component\n",
    "std_bZ = np.nanstd(bZ)\n",
    "\n",
    "for x in bZ:\n",
    "    if not np.isnan(x):\n",
    "        if x > avg_bZ + 2*std_bZ or x < avg_bZ - 2*std_bZ:\n",
    "            print(type(x))\n",
    "            x = np.nan\n",
    "            print('replaced', x, 'with NaN')\n",
    "\n"
   ]
  },
  {
   "cell_type": "code",
   "execution_count": null,
   "metadata": {},
   "outputs": [],
   "source": [
    "# clean up the flow pressure data\n",
    "\n",
    "# average of the flow pressure\n",
    "avg_fP = np.nanmean(fP)\n"
   ]
  },
  {
   "cell_type": "code",
   "execution_count": null,
   "metadata": {},
   "outputs": [],
   "source": [
    "# clean up the sun spot count data\n",
    "\n",
    "# average of the sun spot count\n",
    "avg_ssCount = np.nanmean(ssCount)\n"
   ]
  },
  {
   "cell_type": "code",
   "execution_count": null,
   "metadata": {},
   "outputs": [],
   "source": [
    "# clean up the dst index data\n",
    "\n",
    "# average of the dst index\n",
    "avg_dst = np.nanmean(dst)"
   ]
  },
  {
   "cell_type": "markdown",
   "metadata": {},
   "source": [
    "Plot Data"
   ]
  },
  {
   "cell_type": "code",
   "execution_count": null,
   "metadata": {},
   "outputs": [],
   "source": [
    "# plot 4 subplots with padding\n",
    "fig, axs = plt.subplots(4, figsize=(10, 10), tight_layout=True, num='OMNI Data')\n",
    "\n",
    "fig.suptitle('OMNI Data', fontsize=16)\n",
    "\n",
    "axs[0].plot(time, bZ)\n",
    "axs[0].set_title('Bz')\n",
    "axs[0].set_ylabel('nT')\n",
    "\n",
    "axs[1].plot(time, fP)\n",
    "axs[1].set_title('Flow Pressure')\n",
    "axs[1].set_ylabel('nPa')\n",
    "\n",
    "axs[2].plot(time, ssCount)\n",
    "axs[2].set_title('Daily Sunspot Count')\n",
    "axs[2].set_ylabel('Count')\n",
    "\n",
    "axs[3].plot(time, dst)\n",
    "axs[3].set_title('Dst Index')\n",
    "axs[3].set_ylabel('nT')\n",
    "\n",
    "plt.show()"
   ]
  },
  {
   "cell_type": "code",
   "execution_count": null,
   "metadata": {},
   "outputs": [],
   "source": []
  }
 ],
 "metadata": {
  "kernelspec": {
   "display_name": "Python 3",
   "language": "python",
   "name": "python3"
  },
  "language_info": {
   "codemirror_mode": {
    "name": "ipython",
    "version": 3
   },
   "file_extension": ".py",
   "mimetype": "text/x-python",
   "name": "python",
   "nbconvert_exporter": "python",
   "pygments_lexer": "ipython3",
   "version": "3.11.8"
  }
 },
 "nbformat": 4,
 "nbformat_minor": 2
}
