{
 "cells": [
  {
   "cell_type": "code",
   "execution_count": 2,
   "metadata": {},
   "outputs": [
    {
     "name": "stdout",
     "output_type": "stream",
     "text": [
      "Requirement already satisfied: PyQt5 in c:\\users\\egeis\\appdata\\local\\packages\\pythonsoftwarefoundation.python.3.11_qbz5n2kfra8p0\\localcache\\local-packages\\python311\\site-packages (5.15.10)\n",
      "Requirement already satisfied: PyQt5-sip<13,>=12.13 in c:\\users\\egeis\\appdata\\local\\packages\\pythonsoftwarefoundation.python.3.11_qbz5n2kfra8p0\\localcache\\local-packages\\python311\\site-packages (from PyQt5) (12.13.0)\n",
      "Requirement already satisfied: PyQt5-Qt5>=5.15.2 in c:\\users\\egeis\\appdata\\local\\packages\\pythonsoftwarefoundation.python.3.11_qbz5n2kfra8p0\\localcache\\local-packages\\python311\\site-packages (from PyQt5) (5.15.2)\n",
      "Note: you may need to restart the kernel to use updated packages.\n"
     ]
    }
   ],
   "source": [
    "%pip install PyQt5\n",
    "\n",
    "import numpy as np\n",
    "import pandas as pd\n",
    "import datetime as dt\n",
    "import matplotlib\n",
    "from matplotlib import pyplot as plt\n",
    "matplotlib.use('Qt5Agg')"
   ]
  },
  {
   "cell_type": "markdown",
   "metadata": {},
   "source": [
    "Data Clean Up\n",
    "- Removing all the 999s thats indicate errors during collection"
   ]
  },
  {
   "cell_type": "code",
   "execution_count": 3,
   "metadata": {},
   "outputs": [],
   "source": [
    "# data has already been cleaned and export to csv files omni_cleaned_data.csv and omni_cleaned_time.csv\n",
    "# only uncomment if data needs to be cleaned again\n",
    "# takes about 20 mins to run on my machine (Ryzen 9 7940HS, 64 GB RAM, etc.)\n",
    "\n",
    "# %run cleanup.py"
   ]
  },
  {
   "cell_type": "markdown",
   "metadata": {},
   "source": [
    "Import Cleaned Data"
   ]
  },
  {
   "cell_type": "code",
   "execution_count": 5,
   "metadata": {},
   "outputs": [
    {
     "data": {
      "text/plain": [
       "2.4"
      ]
     },
     "execution_count": 5,
     "metadata": {},
     "output_type": "execute_result"
    }
   ],
   "source": [
    "data = np.genfromtxt('./data/onmi_cleaned_data.csv', delimiter=',', dtype=float)\n",
    "time = np.genfromtxt('./data/onmi_cleaned_time.csv', delimiter=',', dtype=dt.datetime)\n",
    "\n",
    "bZ = data[:, 0] # magnetic field in the z-direction\n",
    "fP = data[:, 1] # flow pressure\n",
    "ssCount = data[:, 2] # sun spot count\n",
    "dst = data[:, 3] # dst index\n",
    "\n",
    "bZ[0]"
   ]
  },
  {
   "cell_type": "code",
   "execution_count": 6,
   "metadata": {},
   "outputs": [],
   "source": [
    "# Remove some outliers in the data\n",
    "avg_bZ = np.mean(bZ)\n",
    "std_bZ = np.std(bZ)\n",
    "timeBz = time[(bZ > avg_bZ - 3*std_bZ) & (bZ < avg_bZ + 3*std_bZ)]\n",
    "bZ = bZ[(bZ > avg_bZ - 3*std_bZ) & (bZ < avg_bZ + 3*std_bZ)]\n",
    "\n",
    "avg_fP = np.mean(fP)\n",
    "std_fP = np.std(fP)\n",
    "timeFp = time[(fP > avg_fP - 3*std_fP) & (fP < avg_fP + 3*std_fP)]\n",
    "fP = fP[(fP > avg_fP - 3*std_fP) & (fP < avg_fP + 3*std_fP)]\n",
    "\n",
    "avg_ssCount = np.mean(ssCount)\n",
    "std_ssCount = np.std(ssCount)\n",
    "timeSs = time[(ssCount > avg_ssCount - 3*std_ssCount) & (ssCount < avg_ssCount + 3*std_ssCount)]\n",
    "ssCount = ssCount[(ssCount > avg_ssCount - 3*std_ssCount) & (ssCount < avg_ssCount + 3*std_ssCount)]\n",
    "\n",
    "avg_dst = np.mean(dst)\n",
    "std_dst = np.std(dst)\n",
    "timeDst = time[(dst > avg_dst - 3*std_dst) & (dst < avg_dst + 3*std_dst)]\n",
    "dst = dst[(dst > avg_dst - 3*std_dst) & (dst < avg_dst + 3*std_dst)]"
   ]
  },
  {
   "cell_type": "markdown",
   "metadata": {},
   "source": [
    "Plot Data"
   ]
  },
  {
   "cell_type": "code",
   "execution_count": 7,
   "metadata": {},
   "outputs": [],
   "source": [
    "# plot 4 subplots with padding\n",
    "fig, axs = plt.subplots(4, figsize=(10, 10), tight_layout=True, num='OMNI Data')\n",
    "\n",
    "fig.suptitle('OMNI Data', fontsize=16)\n",
    "\n",
    "# Ensure time has the same length as other arrays\n",
    "axs[0].plot(timeBz, bZ)\n",
    "axs[0].set_title('Bz')\n",
    "axs[0].set_ylabel('nT')\n",
    "\n",
    "axs[1].plot(timeFp, fP)\n",
    "axs[1].set_title('Flow Pressure')\n",
    "axs[1].set_ylabel('nPa')\n",
    "\n",
    "axs[2].plot(timeSs, ssCount)\n",
    "axs[2].set_title('Daily Sunspot Count')\n",
    "axs[2].set_ylabel('Count')\n",
    "\n",
    "axs[3].plot(timeDst, dst)\n",
    "axs[3].set_title('Dst Index')\n",
    "axs[3].set_ylabel('nT')\n",
    "\n",
    "fig.show()"
   ]
  },
  {
   "cell_type": "code",
   "execution_count": null,
   "metadata": {},
   "outputs": [],
   "source": []
  }
 ],
 "metadata": {
  "kernelspec": {
   "display_name": "Python 3",
   "language": "python",
   "name": "python3"
  },
  "language_info": {
   "codemirror_mode": {
    "name": "ipython",
    "version": 3
   },
   "file_extension": ".py",
   "mimetype": "text/x-python",
   "name": "python",
   "nbconvert_exporter": "python",
   "pygments_lexer": "ipython3",
   "version": "3.11.8"
  }
 },
 "nbformat": 4,
 "nbformat_minor": 2
}
